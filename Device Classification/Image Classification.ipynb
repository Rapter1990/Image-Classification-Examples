{
 "cells": [
  {
   "cell_type": "markdown",
   "metadata": {},
   "source": [
    "# Image Classification by MobileNetV2\n",
    "\n",
    "The classification example is implemeted by MobileNetV2.\n",
    "\n",
    "Here is a link of dataset: https://www.kaggle.com/ahmetsamiyenieri/imageclassification"
   ]
  },
  {
   "cell_type": "markdown",
   "metadata": {},
   "source": [
    "## Content\n",
    "\n",
    "<ul>\n",
    "  <li><a href=\"#part1\">1. Import libraries</a></li>\n",
    "  <li><a href=\"#part2\">2. Define the main directory of images' folders</a></li>\n",
    "  <li><a href=\"#part3\">3. Define dataframe which is involved in image's filepath and its label</a></li>\n",
    "  <li><a href=\"#part4\">4. Split dataframe into test and train</a></li>\n",
    "  <li><a href=\"#part5\">5. Define test and train generator processed by MobileNetV2</a></li>    \n",
    "  <li><a href=\"#part6\">6. Define the size of image</a></li>\n",
    "  <li><a href=\"#part7\">7. Define images by train, test and lastly validation</a></li>\n",
    "  <li><a href=\"#part8\">8. Define MobileNetV2 Model</a></li>\n",
    "  <li><a href=\"#part9\">9. Fit Model</a></li>\n",
    "  <li><a href=\"#part10\">10. Draw Confusion Matrix and Show Classification Result Report</a></li>  \n",
    "</ul>"
   ]
  },
  {
   "cell_type": "markdown",
   "metadata": {},
   "source": [
    "<a id='part1'></a>\n",
    "## 1 ) Import libraries"
   ]
  },
  {
   "cell_type": "code",
   "execution_count": 17,
   "metadata": {},
   "outputs": [],
   "source": [
    "import numpy as np\n",
    "import pandas as pd\n",
    "from pathlib import Path\n",
    "import os.path\n",
    "\n",
    "import matplotlib.pyplot as plt\n",
    "import seaborn as sns\n",
    "\n",
    "from sklearn.model_selection import train_test_split\n",
    "\n",
    "import tensorflow as tf\n",
    "\n",
    "from sklearn.metrics import confusion_matrix, classification_report"
   ]
  },
  {
   "cell_type": "markdown",
   "metadata": {},
   "source": [
    "<a id='part2'></a>\n",
    "## 2 ) Define the main directory of images' folders "
   ]
  },
  {
   "cell_type": "code",
   "execution_count": 18,
   "metadata": {},
   "outputs": [],
   "source": [
    "# data/train , data/test\n",
    "image_dir = Path('data')"
   ]
  },
  {
   "cell_type": "markdown",
   "metadata": {},
   "source": [
    "<a id='part3'></a>\n",
    "## 3 ) Define dataframe which is involved in image's filepath and its label"
   ]
  },
  {
   "cell_type": "code",
   "execution_count": 19,
   "metadata": {},
   "outputs": [
    {
     "data": {
      "text/plain": [
       "violin            600\n",
       "guitar            600\n",
       "org               599\n",
       "mug               599\n",
       "mobile phone      598\n",
       "remote control    598\n",
       "laptop            597\n",
       "chair             593\n",
       "pot               592\n",
       "slipper           592\n",
       "Name: Label, dtype: int64"
      ]
     },
     "execution_count": 19,
     "metadata": {},
     "output_type": "execute_result"
    }
   ],
   "source": [
    "filepaths = list(image_dir.glob(r'**/*.jpg'))\n",
    "labels = list(map(lambda x: os.path.split(os.path.split(x)[0])[1], filepaths))\n",
    "\n",
    "filepaths = pd.Series(filepaths, name='Filepath').astype(str)\n",
    "labels = pd.Series(labels, name='Label')\n",
    "\n",
    "image_df = pd.concat([filepaths, labels], axis=1)\n",
    "\n",
    "image_df['Label'].value_counts()"
   ]
  },
  {
   "cell_type": "code",
   "execution_count": 20,
   "metadata": {},
   "outputs": [
    {
     "data": {
      "text/plain": [
       "violin            600\n",
       "guitar            600\n",
       "org               599\n",
       "mug               599\n",
       "mobile phone      598\n",
       "remote control    598\n",
       "laptop            597\n",
       "chair             593\n",
       "pot               592\n",
       "slipper           592\n",
       "Name: Label, dtype: int64"
      ]
     },
     "execution_count": 20,
     "metadata": {},
     "output_type": "execute_result"
    }
   ],
   "source": [
    "samples = []\n",
    "for category in image_df['Label'].unique():\n",
    "    category_slice = image_df.query(\"Label == @category\")\n",
    "    #samples.append(category_slice.sample(400, random_state=1,replace=True))\n",
    "    samples.append(category_slice)\n",
    "image_df = pd.concat(samples, axis=0).sample(frac=1.0, random_state=1).reset_index(drop=True)\n",
    "\n",
    "image_df['Label'].value_counts()"
   ]
  },
  {
   "cell_type": "code",
   "execution_count": 21,
   "metadata": {},
   "outputs": [
    {
     "data": {
      "text/html": [
       "<div>\n",
       "<style scoped>\n",
       "    .dataframe tbody tr th:only-of-type {\n",
       "        vertical-align: middle;\n",
       "    }\n",
       "\n",
       "    .dataframe tbody tr th {\n",
       "        vertical-align: top;\n",
       "    }\n",
       "\n",
       "    .dataframe thead th {\n",
       "        text-align: right;\n",
       "    }\n",
       "</style>\n",
       "<table border=\"1\" class=\"dataframe\">\n",
       "  <thead>\n",
       "    <tr style=\"text-align: right;\">\n",
       "      <th></th>\n",
       "      <th>Filepath</th>\n",
       "      <th>Label</th>\n",
       "    </tr>\n",
       "  </thead>\n",
       "  <tbody>\n",
       "    <tr>\n",
       "      <th>0</th>\n",
       "      <td>data\\train\\train\\org\\org (333).jpg</td>\n",
       "      <td>org</td>\n",
       "    </tr>\n",
       "    <tr>\n",
       "      <th>1</th>\n",
       "      <td>data\\train\\train\\org\\org (197).jpg</td>\n",
       "      <td>org</td>\n",
       "    </tr>\n",
       "    <tr>\n",
       "      <th>2</th>\n",
       "      <td>data\\train\\train\\org\\org_download (77).jpg</td>\n",
       "      <td>org</td>\n",
       "    </tr>\n",
       "    <tr>\n",
       "      <th>3</th>\n",
       "      <td>data\\train\\train\\pot\\pot_download (72).jpg</td>\n",
       "      <td>pot</td>\n",
       "    </tr>\n",
       "    <tr>\n",
       "      <th>4</th>\n",
       "      <td>data\\train\\train\\chair\\chair (326).jpg</td>\n",
       "      <td>chair</td>\n",
       "    </tr>\n",
       "    <tr>\n",
       "      <th>...</th>\n",
       "      <td>...</td>\n",
       "      <td>...</td>\n",
       "    </tr>\n",
       "    <tr>\n",
       "      <th>5963</th>\n",
       "      <td>data\\train\\train\\guitar\\guitar (293).jpg</td>\n",
       "      <td>guitar</td>\n",
       "    </tr>\n",
       "    <tr>\n",
       "      <th>5964</th>\n",
       "      <td>data\\train\\train\\slipper\\slipper (401).jpg</td>\n",
       "      <td>slipper</td>\n",
       "    </tr>\n",
       "    <tr>\n",
       "      <th>5965</th>\n",
       "      <td>data\\train\\train\\pot\\pot (377).jpg</td>\n",
       "      <td>pot</td>\n",
       "    </tr>\n",
       "    <tr>\n",
       "      <th>5966</th>\n",
       "      <td>data\\train\\train\\chair\\chair (218).jpg</td>\n",
       "      <td>chair</td>\n",
       "    </tr>\n",
       "    <tr>\n",
       "      <th>5967</th>\n",
       "      <td>data\\train\\train\\slipper\\slipper (366).jpg</td>\n",
       "      <td>slipper</td>\n",
       "    </tr>\n",
       "  </tbody>\n",
       "</table>\n",
       "<p>5968 rows × 2 columns</p>\n",
       "</div>"
      ],
      "text/plain": [
       "                                        Filepath    Label\n",
       "0             data\\train\\train\\org\\org (333).jpg      org\n",
       "1             data\\train\\train\\org\\org (197).jpg      org\n",
       "2     data\\train\\train\\org\\org_download (77).jpg      org\n",
       "3     data\\train\\train\\pot\\pot_download (72).jpg      pot\n",
       "4         data\\train\\train\\chair\\chair (326).jpg    chair\n",
       "...                                          ...      ...\n",
       "5963    data\\train\\train\\guitar\\guitar (293).jpg   guitar\n",
       "5964  data\\train\\train\\slipper\\slipper (401).jpg  slipper\n",
       "5965          data\\train\\train\\pot\\pot (377).jpg      pot\n",
       "5966      data\\train\\train\\chair\\chair (218).jpg    chair\n",
       "5967  data\\train\\train\\slipper\\slipper (366).jpg  slipper\n",
       "\n",
       "[5968 rows x 2 columns]"
      ]
     },
     "execution_count": 21,
     "metadata": {},
     "output_type": "execute_result"
    }
   ],
   "source": [
    "image_df"
   ]
  },
  {
   "cell_type": "markdown",
   "metadata": {},
   "source": [
    "<a id='part4'></a>\n",
    "## 4 ) Split dataframe into test and train "
   ]
  },
  {
   "cell_type": "code",
   "execution_count": 22,
   "metadata": {},
   "outputs": [],
   "source": [
    "train_df, test_df = train_test_split(image_df, train_size=0.7, shuffle=True, random_state=1)"
   ]
  },
  {
   "cell_type": "markdown",
   "metadata": {},
   "source": [
    "<a id='part5'></a>\n",
    "## 5 ) Define test and train generator processed by MobileNetV2"
   ]
  },
  {
   "cell_type": "code",
   "execution_count": 23,
   "metadata": {},
   "outputs": [],
   "source": [
    "train_generator = tf.keras.preprocessing.image.ImageDataGenerator(\n",
    "    preprocessing_function=tf.keras.applications.mobilenet_v2.preprocess_input,\n",
    "    validation_split=0.2\n",
    ")\n",
    "\n",
    "test_generator = tf.keras.preprocessing.image.ImageDataGenerator(\n",
    "    preprocessing_function=tf.keras.applications.mobilenet_v2.preprocess_input\n",
    ")"
   ]
  },
  {
   "cell_type": "markdown",
   "metadata": {},
   "source": [
    "<a id='part6'></a>\n",
    "## 6 ) Define the size of image"
   ]
  },
  {
   "cell_type": "code",
   "execution_count": 24,
   "metadata": {},
   "outputs": [],
   "source": [
    "IMAGE_SIZE = 128"
   ]
  },
  {
   "cell_type": "markdown",
   "metadata": {},
   "source": [
    "<a id='part7'></a>\n",
    "## 7 ) Define images by train, test and lastly validation"
   ]
  },
  {
   "cell_type": "code",
   "execution_count": 25,
   "metadata": {},
   "outputs": [
    {
     "name": "stdout",
     "output_type": "stream",
     "text": [
      "Found 3342 validated image filenames belonging to 10 classes.\n",
      "Found 835 validated image filenames belonging to 10 classes.\n",
      "Found 1791 validated image filenames belonging to 10 classes.\n"
     ]
    }
   ],
   "source": [
    "train_images = train_generator.flow_from_dataframe(\n",
    "    dataframe=train_df,\n",
    "    x_col='Filepath',\n",
    "    y_col='Label',\n",
    "    target_size=(IMAGE_SIZE, IMAGE_SIZE),\n",
    "    color_mode='rgb',\n",
    "    class_mode='categorical',\n",
    "    batch_size=32,\n",
    "    shuffle=True,\n",
    "    seed=42,\n",
    "    subset='training'\n",
    ")\n",
    "\n",
    "val_images = train_generator.flow_from_dataframe(\n",
    "    dataframe=train_df,\n",
    "    x_col='Filepath',\n",
    "    y_col='Label',\n",
    "    target_size=(IMAGE_SIZE, IMAGE_SIZE),\n",
    "    color_mode='rgb',\n",
    "    class_mode='categorical',\n",
    "    batch_size=32,\n",
    "    shuffle=True,\n",
    "    seed=42,\n",
    "    subset='validation'\n",
    ")\n",
    "\n",
    "test_images = test_generator.flow_from_dataframe(\n",
    "    dataframe=test_df,\n",
    "    x_col='Filepath',\n",
    "    y_col='Label',\n",
    "    target_size=(IMAGE_SIZE, IMAGE_SIZE),\n",
    "    color_mode='rgb',\n",
    "    class_mode='categorical',\n",
    "    batch_size=32,\n",
    "    shuffle=False\n",
    ")"
   ]
  },
  {
   "cell_type": "markdown",
   "metadata": {},
   "source": [
    "<a id='part8'></a>\n",
    "## 8 ) Define MobileNetV2 Model"
   ]
  },
  {
   "cell_type": "code",
   "execution_count": 26,
   "metadata": {},
   "outputs": [],
   "source": [
    "pretrained_model = tf.keras.applications.MobileNetV2(\n",
    "    input_shape=(IMAGE_SIZE, IMAGE_SIZE, 3),\n",
    "    include_top=False,\n",
    "    weights='imagenet',\n",
    "    pooling='avg'\n",
    ")\n",
    "\n",
    "pretrained_model.trainable = False "
   ]
  },
  {
   "cell_type": "code",
   "execution_count": 27,
   "metadata": {},
   "outputs": [],
   "source": [
    "inputs = pretrained_model.input\n",
    "x = tf.keras.layers.Dense(128, activation='relu')(pretrained_model.output)\n",
    "x = tf.keras.layers.Dense(64, activation='relu')(x)\n",
    "x = tf.keras.layers.Dense(32, activation='relu')(x)\n",
    "outputs = tf.keras.layers.Dense(10, activation='softmax')(x)\n",
    "\n",
    "model = tf.keras.Model(inputs=inputs, outputs=outputs)\n",
    "\n",
    "model.compile(\n",
    "    optimizer='adam',\n",
    "    loss='categorical_crossentropy',\n",
    "    metrics=['accuracy']\n",
    ")\n"
   ]
  },
  {
   "cell_type": "markdown",
   "metadata": {},
   "source": [
    "<a id='part9'></a>\n",
    "## 9 ) Fit Model"
   ]
  },
  {
   "cell_type": "code",
   "execution_count": 28,
   "metadata": {},
   "outputs": [
    {
     "name": "stdout",
     "output_type": "stream",
     "text": [
      "Epoch 1/100\n",
      "105/105 [==============================] - 280s 3s/step - loss: 0.9066 - accuracy: 0.7184 - val_loss: 0.0599 - val_accuracy: 0.9820\n",
      "Epoch 2/100\n",
      "105/105 [==============================] - 196s 2s/step - loss: 0.0290 - accuracy: 0.9921 - val_loss: 0.0405 - val_accuracy: 0.9856\n",
      "Epoch 3/100\n",
      "105/105 [==============================] - 146s 1s/step - loss: 0.0094 - accuracy: 0.9983 - val_loss: 0.0238 - val_accuracy: 0.9916\n",
      "Epoch 4/100\n",
      "105/105 [==============================] - 147s 1s/step - loss: 0.0046 - accuracy: 0.9985 - val_loss: 0.0157 - val_accuracy: 0.9904\n",
      "Epoch 5/100\n",
      "105/105 [==============================] - 147s 1s/step - loss: 5.3501e-04 - accuracy: 1.0000 - val_loss: 0.0158 - val_accuracy: 0.9952\n",
      "Epoch 6/100\n",
      "105/105 [==============================] - 147s 1s/step - loss: 4.6638e-04 - accuracy: 1.0000 - val_loss: 0.0156 - val_accuracy: 0.9940\n",
      "Epoch 7/100\n",
      "105/105 [==============================] - 149s 1s/step - loss: 3.1885e-04 - accuracy: 1.0000 - val_loss: 0.0157 - val_accuracy: 0.9940\n",
      "Epoch 8/100\n",
      "105/105 [==============================] - 147s 1s/step - loss: 2.3570e-04 - accuracy: 1.0000 - val_loss: 0.0159 - val_accuracy: 0.9940\n",
      "Epoch 9/100\n",
      "105/105 [==============================] - 147s 1s/step - loss: 2.2556e-04 - accuracy: 1.0000 - val_loss: 0.0162 - val_accuracy: 0.9940\n"
     ]
    }
   ],
   "source": [
    "history = model.fit(\n",
    "    train_images,\n",
    "    validation_data=val_images,\n",
    "    epochs=100,\n",
    "    callbacks=[\n",
    "        tf.keras.callbacks.EarlyStopping(\n",
    "            monitor='val_loss',\n",
    "            patience=3,\n",
    "            restore_best_weights=True\n",
    "        )\n",
    "    ]\n",
    ")"
   ]
  },
  {
   "cell_type": "markdown",
   "metadata": {},
   "source": [
    "<a id='part10'></a>\n",
    "## 10 ) Draw Confusion Matrix and Show Classification Result Report "
   ]
  },
  {
   "cell_type": "code",
   "execution_count": 29,
   "metadata": {},
   "outputs": [
    {
     "name": "stdout",
     "output_type": "stream",
     "text": [
      "Test Accuracy: 98.44%\n"
     ]
    },
    {
     "data": {
      "image/png": "[encoded data removed]",
      "text/plain": [
       "<Figure size 576x576 with 1 Axes>"
      ]
     },
     "metadata": {
      "needs_background": "light"
     },
     "output_type": "display_data"
    },
    {
     "name": "stdout",
     "output_type": "stream",
     "text": [
      "Classification Report:\n",
      "----------------------\n",
      "                 precision    recall  f1-score   support\n",
      "\n",
      "         chair       0.98      0.99      0.99       178\n",
      "        guitar       0.99      0.96      0.98       189\n",
      "        laptop       0.96      0.99      0.98       164\n",
      "  mobile phone       0.99      0.98      0.98       182\n",
      "           mug       0.98      0.99      0.99       169\n",
      "           org       0.99      0.98      0.98       194\n",
      "           pot       0.98      1.00      0.99       160\n",
      "remote control       0.99      0.97      0.98       185\n",
      "       slipper       0.99      0.98      0.99       178\n",
      "        violin       0.98      0.99      0.98       192\n",
      "\n",
      "      accuracy                           0.98      1791\n",
      "     macro avg       0.98      0.98      0.98      1791\n",
      "  weighted avg       0.98      0.98      0.98      1791\n",
      "\n"
     ]
    }
   ],
   "source": [
    "results = model.evaluate(test_images, verbose=0)\n",
    "predictions = np.argmax(model.predict(test_images), axis=1)\n",
    "\n",
    "class_names = list(test_images.class_indices.keys())\n",
    "\n",
    "cm = confusion_matrix(test_images.labels, predictions, labels=np.arange(10))\n",
    "clr = classification_report(test_images.labels, predictions, labels=np.arange(10), target_names=class_names)\n",
    "\n",
    "print(\"Test Accuracy: {:.2f}%\".format(results[1] * 100))\n",
    "\n",
    "plt.figure(figsize=(8, 8))\n",
    "sns.heatmap(cm, annot=True, fmt='g', vmin=0, cmap='Blues', cbar=False)\n",
    "plt.xticks(ticks=np.arange(10) + 0.5, labels=class_names, rotation=90)\n",
    "plt.yticks(ticks=np.arange(10) + 0.5, labels=class_names, rotation=0)\n",
    "plt.xlabel(\"Predicted\")\n",
    "plt.ylabel(\"Actual\")\n",
    "plt.title(\"Confusion Matrix\")\n",
    "plt.show()\n",
    "\n",
    "print(\"Classification Report:\\n----------------------\\n\", clr)"
   ]
  },
  {
   "cell_type": "code",
   "execution_count": null,
   "metadata": {},
   "outputs": [],
   "source": []
  }
 ],
 "metadata": {
  "kernelspec": {
   "display_name": "Python 3",
   "language": "python",
   "name": "python3"
  },
  "language_info": {
   "codemirror_mode": {
    "name": "ipython",
    "version": 3
   },
   "file_extension": ".py",
   "mimetype": "text/x-python",
   "name": "python",
   "nbconvert_exporter": "python",
   "pygments_lexer": "ipython3",
   "version": "3.8.5"
  }
 },
 "nbformat": 4,
 "nbformat_minor": 4
}
